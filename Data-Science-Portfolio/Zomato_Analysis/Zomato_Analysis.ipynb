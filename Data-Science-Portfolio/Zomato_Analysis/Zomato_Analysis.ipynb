{
 "cells": [
  {
   "cell_type": "markdown",
   "id": "17d1928c",
   "metadata": {},
   "source": [
    "# 🍽 Zomato Data Analysis — Improved (v2)\n",
    "Using your dataset (**Zomatodata.csv**, 148 rows).\n",
    "\n",
    "**Goal:** Turn EDA into validated, defensible insights with hypothesis tests and regression.\n",
    "\n",
    "## Step‑by‑Step Overview\n",
    "1) Setup & imports\n",
    "2) Load data\n",
    "3) Sanity checks (schema, NAs, stats)\n",
    "4) Clean ratings (parse + winsorize)\n",
    "5) Hypothesis test (online order → higher ratings?)\n",
    "6) Effect size + 95% CI\n",
    "7) Control confounders via OLS\n",
    "8) Visual checks (boxplots, distributions)\n",
    "9) Conclusions & next steps"
   ]
  },
  {
   "cell_type": "markdown",
   "id": "c9704257",
   "metadata": {},
   "source": [
    "### 1) Setup & Imports"
   ]
  },
  {
   "cell_type": "code",
   "execution_count": 1,
   "id": "676b045a",
   "metadata": {},
   "outputs": [],
   "source": [
    "# !pip install pandas numpy scipy statsmodels matplotlib seaborn\n",
    "import pandas as pd, numpy as np\n",
    "import matplotlib.pyplot as plt\n",
    "import seaborn as sns\n",
    "import scipy.stats as st\n",
    "import statsmodels.formula.api as smf\n",
    "pd.set_option('display.max_columns', 200)"
   ]
  },
  {
   "cell_type": "markdown",
   "id": "0bf7e458",
   "metadata": {},
   "source": [
    "### 2) Load Data"
   ]
  },
  {
   "cell_type": "code",
   "execution_count": 3,
   "id": "f5b36544",
   "metadata": {},
   "outputs": [
    {
     "data": {
      "text/html": [
       "<div>\n",
       "<style scoped>\n",
       "    .dataframe tbody tr th:only-of-type {\n",
       "        vertical-align: middle;\n",
       "    }\n",
       "\n",
       "    .dataframe tbody tr th {\n",
       "        vertical-align: top;\n",
       "    }\n",
       "\n",
       "    .dataframe thead th {\n",
       "        text-align: right;\n",
       "    }\n",
       "</style>\n",
       "<table border=\"1\" class=\"dataframe\">\n",
       "  <thead>\n",
       "    <tr style=\"text-align: right;\">\n",
       "      <th></th>\n",
       "      <th>name</th>\n",
       "      <th>online_order</th>\n",
       "      <th>book_table</th>\n",
       "      <th>rate</th>\n",
       "      <th>votes</th>\n",
       "      <th>approx_cost(for two people)</th>\n",
       "      <th>listed_in(type)</th>\n",
       "    </tr>\n",
       "  </thead>\n",
       "  <tbody>\n",
       "    <tr>\n",
       "      <th>0</th>\n",
       "      <td>Jalsa</td>\n",
       "      <td>Yes</td>\n",
       "      <td>Yes</td>\n",
       "      <td>4.1/5</td>\n",
       "      <td>775</td>\n",
       "      <td>800</td>\n",
       "      <td>Buffet</td>\n",
       "    </tr>\n",
       "    <tr>\n",
       "      <th>1</th>\n",
       "      <td>Spice Elephant</td>\n",
       "      <td>Yes</td>\n",
       "      <td>No</td>\n",
       "      <td>4.1/5</td>\n",
       "      <td>787</td>\n",
       "      <td>800</td>\n",
       "      <td>Buffet</td>\n",
       "    </tr>\n",
       "    <tr>\n",
       "      <th>2</th>\n",
       "      <td>San Churro Cafe</td>\n",
       "      <td>Yes</td>\n",
       "      <td>No</td>\n",
       "      <td>3.8/5</td>\n",
       "      <td>918</td>\n",
       "      <td>800</td>\n",
       "      <td>Buffet</td>\n",
       "    </tr>\n",
       "    <tr>\n",
       "      <th>3</th>\n",
       "      <td>Addhuri Udupi Bhojana</td>\n",
       "      <td>No</td>\n",
       "      <td>No</td>\n",
       "      <td>3.7/5</td>\n",
       "      <td>88</td>\n",
       "      <td>300</td>\n",
       "      <td>Buffet</td>\n",
       "    </tr>\n",
       "    <tr>\n",
       "      <th>4</th>\n",
       "      <td>Grand Village</td>\n",
       "      <td>No</td>\n",
       "      <td>No</td>\n",
       "      <td>3.8/5</td>\n",
       "      <td>166</td>\n",
       "      <td>600</td>\n",
       "      <td>Buffet</td>\n",
       "    </tr>\n",
       "  </tbody>\n",
       "</table>\n",
       "</div>"
      ],
      "text/plain": [
       "                    name online_order book_table   rate  votes  \\\n",
       "0                  Jalsa          Yes        Yes  4.1/5    775   \n",
       "1         Spice Elephant          Yes         No  4.1/5    787   \n",
       "2        San Churro Cafe          Yes         No  3.8/5    918   \n",
       "3  Addhuri Udupi Bhojana           No         No  3.7/5     88   \n",
       "4          Grand Village           No         No  3.8/5    166   \n",
       "\n",
       "   approx_cost(for two people) listed_in(type)  \n",
       "0                          800          Buffet  \n",
       "1                          800          Buffet  \n",
       "2                          800          Buffet  \n",
       "3                          300          Buffet  \n",
       "4                          600          Buffet  "
      ]
     },
     "execution_count": 3,
     "metadata": {},
     "output_type": "execute_result"
    }
   ],
   "source": [
    "DATA_PATH = 'Zomatodata.csv'  # set to your file path if running elsewhere\n",
    "df = pd.read_csv(DATA_PATH)\n",
    "df.head()"
   ]
  },
  {
   "cell_type": "markdown",
   "id": "809d2cca",
   "metadata": {},
   "source": [
    "### 3) Sanity Checks"
   ]
  },
  {
   "cell_type": "code",
   "execution_count": 4,
   "id": "f9ce4ec1",
   "metadata": {},
   "outputs": [
    {
     "name": "stdout",
     "output_type": "stream",
     "text": [
      "<class 'pandas.core.frame.DataFrame'>\n",
      "RangeIndex: 148 entries, 0 to 147\n",
      "Data columns (total 7 columns):\n",
      " #   Column                       Non-Null Count  Dtype \n",
      "---  ------                       --------------  ----- \n",
      " 0   name                         148 non-null    object\n",
      " 1   online_order                 148 non-null    object\n",
      " 2   book_table                   148 non-null    object\n",
      " 3   rate                         148 non-null    object\n",
      " 4   votes                        148 non-null    int64 \n",
      " 5   approx_cost(for two people)  148 non-null    int64 \n",
      " 6   listed_in(type)              148 non-null    object\n",
      "dtypes: int64(2), object(5)\n",
      "memory usage: 8.2+ KB\n"
     ]
    },
    {
     "data": {
      "text/plain": [
       "None"
      ]
     },
     "metadata": {},
     "output_type": "display_data"
    },
    {
     "data": {
      "text/plain": [
       "name                           0\n",
       "online_order                   0\n",
       "book_table                     0\n",
       "rate                           0\n",
       "votes                          0\n",
       "approx_cost(for two people)    0\n",
       "listed_in(type)                0\n",
       "dtype: int64"
      ]
     },
     "metadata": {},
     "output_type": "display_data"
    },
    {
     "data": {
      "text/html": [
       "<div>\n",
       "<style scoped>\n",
       "    .dataframe tbody tr th:only-of-type {\n",
       "        vertical-align: middle;\n",
       "    }\n",
       "\n",
       "    .dataframe tbody tr th {\n",
       "        vertical-align: top;\n",
       "    }\n",
       "\n",
       "    .dataframe thead th {\n",
       "        text-align: right;\n",
       "    }\n",
       "</style>\n",
       "<table border=\"1\" class=\"dataframe\">\n",
       "  <thead>\n",
       "    <tr style=\"text-align: right;\">\n",
       "      <th></th>\n",
       "      <th>count</th>\n",
       "      <th>unique</th>\n",
       "      <th>top</th>\n",
       "      <th>freq</th>\n",
       "      <th>mean</th>\n",
       "      <th>std</th>\n",
       "      <th>min</th>\n",
       "      <th>25%</th>\n",
       "      <th>50%</th>\n",
       "      <th>75%</th>\n",
       "      <th>max</th>\n",
       "    </tr>\n",
       "  </thead>\n",
       "  <tbody>\n",
       "    <tr>\n",
       "      <th>name</th>\n",
       "      <td>148</td>\n",
       "      <td>145</td>\n",
       "      <td>San Churro Cafe</td>\n",
       "      <td>2</td>\n",
       "      <td>NaN</td>\n",
       "      <td>NaN</td>\n",
       "      <td>NaN</td>\n",
       "      <td>NaN</td>\n",
       "      <td>NaN</td>\n",
       "      <td>NaN</td>\n",
       "      <td>NaN</td>\n",
       "    </tr>\n",
       "    <tr>\n",
       "      <th>online_order</th>\n",
       "      <td>148</td>\n",
       "      <td>2</td>\n",
       "      <td>No</td>\n",
       "      <td>90</td>\n",
       "      <td>NaN</td>\n",
       "      <td>NaN</td>\n",
       "      <td>NaN</td>\n",
       "      <td>NaN</td>\n",
       "      <td>NaN</td>\n",
       "      <td>NaN</td>\n",
       "      <td>NaN</td>\n",
       "    </tr>\n",
       "    <tr>\n",
       "      <th>book_table</th>\n",
       "      <td>148</td>\n",
       "      <td>2</td>\n",
       "      <td>No</td>\n",
       "      <td>140</td>\n",
       "      <td>NaN</td>\n",
       "      <td>NaN</td>\n",
       "      <td>NaN</td>\n",
       "      <td>NaN</td>\n",
       "      <td>NaN</td>\n",
       "      <td>NaN</td>\n",
       "      <td>NaN</td>\n",
       "    </tr>\n",
       "    <tr>\n",
       "      <th>rate</th>\n",
       "      <td>148</td>\n",
       "      <td>20</td>\n",
       "      <td>3.8/5</td>\n",
       "      <td>19</td>\n",
       "      <td>NaN</td>\n",
       "      <td>NaN</td>\n",
       "      <td>NaN</td>\n",
       "      <td>NaN</td>\n",
       "      <td>NaN</td>\n",
       "      <td>NaN</td>\n",
       "      <td>NaN</td>\n",
       "    </tr>\n",
       "    <tr>\n",
       "      <th>votes</th>\n",
       "      <td>148.0</td>\n",
       "      <td>NaN</td>\n",
       "      <td>NaN</td>\n",
       "      <td>NaN</td>\n",
       "      <td>264.810811</td>\n",
       "      <td>653.676951</td>\n",
       "      <td>0.0</td>\n",
       "      <td>6.75</td>\n",
       "      <td>43.5</td>\n",
       "      <td>221.75</td>\n",
       "      <td>4884.0</td>\n",
       "    </tr>\n",
       "    <tr>\n",
       "      <th>approx_cost(for two people)</th>\n",
       "      <td>148.0</td>\n",
       "      <td>NaN</td>\n",
       "      <td>NaN</td>\n",
       "      <td>NaN</td>\n",
       "      <td>418.243243</td>\n",
       "      <td>223.085098</td>\n",
       "      <td>100.0</td>\n",
       "      <td>200.0</td>\n",
       "      <td>400.0</td>\n",
       "      <td>600.0</td>\n",
       "      <td>950.0</td>\n",
       "    </tr>\n",
       "    <tr>\n",
       "      <th>listed_in(type)</th>\n",
       "      <td>148</td>\n",
       "      <td>4</td>\n",
       "      <td>Dining</td>\n",
       "      <td>110</td>\n",
       "      <td>NaN</td>\n",
       "      <td>NaN</td>\n",
       "      <td>NaN</td>\n",
       "      <td>NaN</td>\n",
       "      <td>NaN</td>\n",
       "      <td>NaN</td>\n",
       "      <td>NaN</td>\n",
       "    </tr>\n",
       "  </tbody>\n",
       "</table>\n",
       "</div>"
      ],
      "text/plain": [
       "                             count unique              top freq        mean  \\\n",
       "name                           148    145  San Churro Cafe    2         NaN   \n",
       "online_order                   148      2               No   90         NaN   \n",
       "book_table                     148      2               No  140         NaN   \n",
       "rate                           148     20            3.8/5   19         NaN   \n",
       "votes                        148.0    NaN              NaN  NaN  264.810811   \n",
       "approx_cost(for two people)  148.0    NaN              NaN  NaN  418.243243   \n",
       "listed_in(type)                148      4           Dining  110         NaN   \n",
       "\n",
       "                                    std    min    25%    50%     75%     max  \n",
       "name                                NaN    NaN    NaN    NaN     NaN     NaN  \n",
       "online_order                        NaN    NaN    NaN    NaN     NaN     NaN  \n",
       "book_table                          NaN    NaN    NaN    NaN     NaN     NaN  \n",
       "rate                                NaN    NaN    NaN    NaN     NaN     NaN  \n",
       "votes                        653.676951    0.0   6.75   43.5  221.75  4884.0  \n",
       "approx_cost(for two people)  223.085098  100.0  200.0  400.0   600.0   950.0  \n",
       "listed_in(type)                     NaN    NaN    NaN    NaN     NaN     NaN  "
      ]
     },
     "metadata": {},
     "output_type": "display_data"
    }
   ],
   "source": [
    "display(df.info())\n",
    "display(df.isnull().sum())\n",
    "display(df.describe(include='all').T)"
   ]
  },
  {
   "cell_type": "markdown",
   "id": "0bc2f477",
   "metadata": {},
   "source": [
    "### 4) Clean Ratings (parse '4.2/5' → 4.2) & Winsorize\n",
    "**Why:** Numeric ratings required for statistics; winsorization reduces outlier sensitivity."
   ]
  },
  {
   "cell_type": "code",
   "execution_count": 5,
   "id": "1ca11311",
   "metadata": {},
   "outputs": [
    {
     "data": {
      "text/html": [
       "<div>\n",
       "<style scoped>\n",
       "    .dataframe tbody tr th:only-of-type {\n",
       "        vertical-align: middle;\n",
       "    }\n",
       "\n",
       "    .dataframe tbody tr th {\n",
       "        vertical-align: top;\n",
       "    }\n",
       "\n",
       "    .dataframe thead th {\n",
       "        text-align: right;\n",
       "    }\n",
       "</style>\n",
       "<table border=\"1\" class=\"dataframe\">\n",
       "  <thead>\n",
       "    <tr style=\"text-align: right;\">\n",
       "      <th></th>\n",
       "      <th>rate_clean</th>\n",
       "      <th>rate_winz</th>\n",
       "    </tr>\n",
       "  </thead>\n",
       "  <tbody>\n",
       "    <tr>\n",
       "      <th>count</th>\n",
       "      <td>148.000000</td>\n",
       "      <td>148.000000</td>\n",
       "    </tr>\n",
       "    <tr>\n",
       "      <th>mean</th>\n",
       "      <td>3.633108</td>\n",
       "      <td>3.633189</td>\n",
       "    </tr>\n",
       "    <tr>\n",
       "      <th>std</th>\n",
       "      <td>0.402271</td>\n",
       "      <td>0.396143</td>\n",
       "    </tr>\n",
       "    <tr>\n",
       "      <th>min</th>\n",
       "      <td>2.600000</td>\n",
       "      <td>2.800000</td>\n",
       "    </tr>\n",
       "    <tr>\n",
       "      <th>25%</th>\n",
       "      <td>3.300000</td>\n",
       "      <td>3.300000</td>\n",
       "    </tr>\n",
       "    <tr>\n",
       "      <th>50%</th>\n",
       "      <td>3.700000</td>\n",
       "      <td>3.700000</td>\n",
       "    </tr>\n",
       "    <tr>\n",
       "      <th>75%</th>\n",
       "      <td>3.900000</td>\n",
       "      <td>3.900000</td>\n",
       "    </tr>\n",
       "    <tr>\n",
       "      <th>max</th>\n",
       "      <td>4.600000</td>\n",
       "      <td>4.506000</td>\n",
       "    </tr>\n",
       "  </tbody>\n",
       "</table>\n",
       "</div>"
      ],
      "text/plain": [
       "       rate_clean   rate_winz\n",
       "count  148.000000  148.000000\n",
       "mean     3.633108    3.633189\n",
       "std      0.402271    0.396143\n",
       "min      2.600000    2.800000\n",
       "25%      3.300000    3.300000\n",
       "50%      3.700000    3.700000\n",
       "75%      3.900000    3.900000\n",
       "max      4.600000    4.506000"
      ]
     },
     "execution_count": 5,
     "metadata": {},
     "output_type": "execute_result"
    }
   ],
   "source": [
    "def parse_rate(x):\n",
    "    try:\n",
    "        if isinstance(x, str) and '/' in x:\n",
    "            return float(x.split('/')[0])\n",
    "        return np.nan if pd.isna(x) else float(x)\n",
    "    except: return np.nan\n",
    "df['rate_clean'] = df['rate'].apply(parse_rate)\n",
    "low, high = df['rate_clean'].quantile([0.01, 0.99])\n",
    "df['rate_winz'] = df['rate_clean'].clip(lower=low, upper=high)\n",
    "df[['rate_clean','rate_winz']].describe()"
   ]
  },
  {
   "cell_type": "markdown",
   "id": "65252858",
   "metadata": {},
   "source": [
    "### 5) Hypothesis Test: Online Order vs Rating\n",
    "**Question:** Do online‑order restaurants have higher ratings?\n",
    "Test = Welch’s t‑test; also compute effect size (Cohen’s d) and 95% CI."
   ]
  },
  {
   "cell_type": "code",
   "execution_count": 7,
   "id": "e48c79f9",
   "metadata": {},
   "outputs": [
    {
     "name": "stdout",
     "output_type": "stream",
     "text": [
      "{'mean_yes': np.float64(3.855379310344828), 'mean_no': np.float64(3.4899999999999998), 'diff': np.float64(0.3653793103448284), 't': np.float64(6.016418730894571), 'p_value': np.float64(2.175802444345839e-08), 'cohen_d': np.float64(1.0215339168618478), '95%CI': (np.float64(0.24634779337303986), np.float64(0.48441082731661694))}\n"
     ]
    }
   ],
   "source": [
    "a = df.loc[df['online_order']=='Yes','rate_winz'].dropna()\n",
    "b = df.loc[df['online_order']=='No','rate_winz'].dropna()\n",
    "t_stat, p_value = st.ttest_ind(a, b, equal_var=False)\n",
    "cohen_d = (a.mean()-b.mean())/np.sqrt((a.var(ddof=1)+b.var(ddof=1))/2)\n",
    "diff = a.mean() - b.mean()\n",
    "se = np.sqrt(a.var(ddof=1)/len(a) + b.var(ddof=1)/len(b))\n",
    "ci_low, ci_high = diff - 1.96*se, diff + 1.96*se\n",
    "print({'mean_yes':a.mean(), 'mean_no':b.mean(), 'diff':diff,\n",
    "       't':t_stat, 'p_value':p_value, 'cohen_d':cohen_d, '95%CI':(ci_low, ci_high)})"
   ]
  },
  {
   "cell_type": "markdown",
   "id": "95bcb93d",
   "metadata": {},
   "source": [
    "### 6) Control for Confounders (OLS)\n",
    "Include `book_table`, `listed_in(type)`, `votes`, and `approx_cost(for two people)` as controls.\n",
    "Interpret the coefficient of `C(online_order)[T.Yes]`."
   ]
  },
  {
   "cell_type": "code",
   "execution_count": 8,
   "id": "8c5ad744",
   "metadata": {},
   "outputs": [
    {
     "name": "stdout",
     "output_type": "stream",
     "text": [
      "                            OLS Regression Results                            \n",
      "==============================================================================\n",
      "Dep. Variable:              rate_winz   R-squared:                       0.357\n",
      "Model:                            OLS   Adj. R-squared:                  0.325\n",
      "Method:                 Least Squares   F-statistic:                     11.11\n",
      "Date:                Tue, 07 Oct 2025   Prob (F-statistic):           3.91e-11\n",
      "Time:                        21:11:47   Log-Likelihood:                -39.752\n",
      "No. Observations:                 148   AIC:                             95.50\n",
      "Df Residuals:                     140   BIC:                             119.5\n",
      "Df Model:                           7                                         \n",
      "Covariance Type:            nonrobust                                         \n",
      "=====================================================================================================\n",
      "                                        coef    std err          t      P>|t|      [0.025      0.975]\n",
      "-----------------------------------------------------------------------------------------------------\n",
      "Intercept                             3.5770      0.155     23.132      0.000       3.271       3.883\n",
      "C(online_order)[T.Yes]                0.2203      0.062      3.544      0.001       0.097       0.343\n",
      "C(book_table)[T.Yes]                  0.2810      0.128      2.200      0.029       0.028       0.534\n",
      "C(Q(\"listed_in(type)\"))[T.Cafes]     -0.0621      0.142     -0.437      0.663      -0.343       0.219\n",
      "C(Q(\"listed_in(type)\"))[T.Dining]    -0.1181      0.134     -0.879      0.381      -0.384       0.148\n",
      "C(Q(\"listed_in(type)\"))[T.other]     -0.1685      0.172     -0.980      0.329      -0.508       0.171\n",
      "votes                                 0.0002   4.73e-05      4.496      0.000       0.000       0.000\n",
      "Q(\"approx_cost(for two people)\")    1.17e-05      0.000      0.081      0.936      -0.000       0.000\n",
      "==============================================================================\n",
      "Omnibus:                        5.645   Durbin-Watson:                   1.655\n",
      "Prob(Omnibus):                  0.059   Jarque-Bera (JB):                5.178\n",
      "Skew:                          -0.429   Prob(JB):                       0.0751\n",
      "Kurtosis:                       3.323   Cond. No.                     7.53e+03\n",
      "==============================================================================\n",
      "\n",
      "Notes:\n",
      "[1] Standard Errors assume that the covariance matrix of the errors is correctly specified.\n",
      "[2] The condition number is large, 7.53e+03. This might indicate that there are\n",
      "strong multicollinearity or other numerical problems.\n"
     ]
    }
   ],
   "source": [
    "model_df = df[['rate_winz','online_order','book_table','listed_in(type)','votes','approx_cost(for two people)']].dropna()\n",
    "model_df['online_order'] = model_df['online_order'].astype('category')\n",
    "model_df['book_table'] = model_df['book_table'].astype('category')\n",
    "model_df['listed_in(type)'] = model_df['listed_in(type)'].astype('category')\n",
    "formula = 'rate_winz ~ C(online_order) + C(book_table) + C(Q(\"listed_in(type)\")) + votes + Q(\"approx_cost(for two people)\")'\n",
    "ols = smf.ols(formula, data=model_df).fit()\n",
    "print(ols.summary())"
   ]
  },
  {
   "cell_type": "markdown",
   "id": "102aad0e",
   "metadata": {},
   "source": [
    "### 7) Visual Checks"
   ]
  },
  {
   "cell_type": "code",
   "execution_count": 9,
   "id": "8ab29a2c",
   "metadata": {},
   "outputs": [
    {
     "data": {
      "image/png": "[encoded data removed]",
      "text/plain": [
       "<Figure size 640x480 with 1 Axes>"
      ]
     },
     "metadata": {},
     "output_type": "display_data"
    },
    {
     "data": {
      "image/png": "[encoded data removed]",
      "text/plain": [
       "<Figure size 640x480 with 1 Axes>"
      ]
     },
     "metadata": {},
     "output_type": "display_data"
    },
    {
     "data": {
      "image/png": "[encoded data removed]",
      "text/plain": [
       "<Figure size 640x480 with 1 Axes>"
      ]
     },
     "metadata": {},
     "output_type": "display_data"
    }
   ],
   "source": [
    "import seaborn as sns\n",
    "sns.boxplot(x=df['online_order'], y=df['rate_winz'])\n",
    "plt.title('Ratings by Online Order availability'); plt.xlabel('Online order?'); plt.ylabel('Rating'); plt.show()\n",
    "sns.scatterplot(x=df['votes'], y=df['rate_clean'])\n",
    "plt.title('Votes vs Rating'); plt.show()\n",
    "sns.scatterplot(x=df['approx_cost(for two people)'], y=df['rate_clean'])\n",
    "plt.title('Cost for Two vs Rating'); plt.show()"
   ]
  },
  {
   "cell_type": "markdown",
   "id": "ed0c8ede",
   "metadata": {},
   "source": [
    "### 8) Conclusions — Fill after running\n",
    "- **Online order mean rating:** Yes=3.855, No=3.49\n",
    "- **Difference:** 0.365 | **t:** 6.016 | **p:** 0.0000 | **d:** 1.022 | **95% CI:** (0.246, 0.484)\n",
    "- **OLS coef for online_order=Yes:** 0.22 (p=0.0005)\n",
    "- **Corr:** votes↔rating=0.49, cost↔rating=0.275\n",
    "- **Top avg ratings by type (preview):** see README"
   ]
  },
  {
   "cell_type": "code",
   "execution_count": null,
   "id": "ca42dda3-3ae5-4eb5-adbe-12b457c1e302",
   "metadata": {},
   "outputs": [],
   "source": []
  }
 ],
 "metadata": {
  "kernelspec": {
   "display_name": "Python [conda env:base] *",
   "language": "python",
   "name": "conda-base-py"
  },
  "language_info": {
   "codemirror_mode": {
    "name": "ipython",
    "version": 3
   },
   "file_extension": ".py",
   "mimetype": "text/x-python",
   "name": "python",
   "nbconvert_exporter": "python",
   "pygments_lexer": "ipython3",
   "version": "3.13.5"
  }
 },
 "nbformat": 4,
 "nbformat_minor": 5
}
